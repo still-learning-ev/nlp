{
 "cells": [
  {
   "cell_type": "code",
   "execution_count": 1,
   "metadata": {},
   "outputs": [],
   "source": [
    "import pandas as pd\n",
    "import string\n",
    "import re \n",
    "from nltk.corpus import stopwords\n",
    "from nltk.stem import WordNetLemmatizer\n",
    "from sklearn.feature_extraction.text import TfidfVectorizer\n",
    "from sklearn.svm import SVC\n",
    "import sklearn\n",
    "import numpy as np"
   ]
  },
  {
   "cell_type": "code",
   "execution_count": 2,
   "metadata": {},
   "outputs": [
    {
     "name": "stdout",
     "output_type": "stream",
     "text": [
      "                                              review sentiment\n",
      "0  One of the other reviewers has mentioned that ...  positive\n",
      "1  A wonderful little production. <br /><br />The...  positive\n",
      "2  I thought this was a wonderful way to spend ti...  positive\n",
      "3  Basically there's a family where a little boy ...  negative\n",
      "4  Petter Mattei's \"Love in the Time of Money\" is...  positive\n"
     ]
    }
   ],
   "source": [
    "data = pd.read_csv('C:\\\\Users\\\\zeeshan lone\\\\Desktop\\\\datasets\\\\imdb.csv')\n",
    "data_replica = pd.read_csv('C:\\\\Users\\\\zeeshan lone\\\\Desktop\\\\datasets\\\\replica.csv')\n",
    "print(data.head())\n",
    "data = data[0:25000]"
   ]
  },
  {
   "cell_type": "code",
   "execution_count": 3,
   "metadata": {},
   "outputs": [
    {
     "name": "stdout",
     "output_type": "stream",
     "text": [
      "\n",
      "The shape of the dataset is : (25000, 2)\n"
     ]
    }
   ],
   "source": [
    "print('\\nThe shape of the dataset is : {}'.format(data.shape))"
   ]
  },
  {
   "cell_type": "code",
   "execution_count": 4,
   "metadata": {},
   "outputs": [],
   "source": [
    "# remove punctuation from the data first\n",
    "\n",
    "punctuations = string.punctuation\n",
    "def remove_punctuations(data_1):\n",
    "    text_non_pun = \"\".join([word for word in data_1 if word not in punctuations])\n",
    "    return text_non_pun\n",
    "\n"
   ]
  },
  {
   "cell_type": "code",
   "execution_count": 5,
   "metadata": {},
   "outputs": [],
   "source": [
    "data_replica['data_no_punctuation'] = data['review'].apply(lambda x:remove_punctuations(x))"
   ]
  },
  {
   "cell_type": "code",
   "execution_count": 6,
   "metadata": {},
   "outputs": [],
   "source": [
    "# tokenise the data step 2\n",
    "\n",
    "def tokenize(data_2):\n",
    "    tokens = re.split('\\W+',data_2)\n",
    "    return tokens\n"
   ]
  },
  {
   "cell_type": "code",
   "execution_count": 7,
   "metadata": {},
   "outputs": [],
   "source": [
    "data_replica['data_no_punctuation'] = data_replica['data_no_punctuation'].apply(lambda x:tokenize(x))"
   ]
  },
  {
   "cell_type": "code",
   "execution_count": 8,
   "metadata": {},
   "outputs": [],
   "source": [
    "# step three is to remove the stop words from the data\n",
    "\n",
    "StopWords = set(stopwords.words('english'))\n",
    "\n",
    "def remove_stopwords(data_3):\n",
    "    text_no_stopwords = [word for word in data_3 if word not in StopWords ]\n",
    "    return text_no_stopwords\n",
    "    "
   ]
  },
  {
   "cell_type": "code",
   "execution_count": 9,
   "metadata": {},
   "outputs": [],
   "source": [
    "data_replica['data_no_punctuation'] = data_replica['data_no_punctuation'].apply(lambda x:remove_stopwords(x))\n"
   ]
  },
  {
   "cell_type": "code",
   "execution_count": 10,
   "metadata": {},
   "outputs": [],
   "source": [
    "# step 4 is to lammatize or stemming the data \n",
    "\n",
    "w_n_lemmatizer = WordNetLemmatizer()\n",
    "\n",
    "def lemmatize_data(data_4):\n",
    "    lemmatized_text = [w_n_lemmatizer.lemmatize(word) for word in data_4]\n",
    "    return lemmatized_text"
   ]
  },
  {
   "cell_type": "code",
   "execution_count": 11,
   "metadata": {},
   "outputs": [],
   "source": [
    "data_replica['data_no_punctuation'] = data_replica['data_no_punctuation'].apply(lambda x:lemmatize_data(x))"
   ]
  },
  {
   "cell_type": "code",
   "execution_count": 12,
   "metadata": {},
   "outputs": [],
   "source": [
    "# step 5 is to extract features from our data so that we can use it in machine learning\n",
    "# since the data is in list of list format we will convert it to list of string first to be given as input to TFIDF\n",
    "final_str = ''\n",
    "def converttostr(input_seq, seperator):\n",
    "   final_str = seperator.join(input_seq)\n",
    "   return final_str\n"
   ]
  },
  {
   "cell_type": "code",
   "execution_count": 13,
   "metadata": {},
   "outputs": [
    {
     "name": "stdout",
     "output_type": "stream",
     "text": [
      "<class 'list'>\n"
     ]
    }
   ],
   "source": [
    "seperator=' '\n",
    "abc=[]\n",
    "for j in data_replica['data_no_punctuation']:\n",
    "    abc.append(converttostr(j, seperator))\n",
    "print(type(abc))\n"
   ]
  },
  {
   "cell_type": "code",
   "execution_count": 14,
   "metadata": {},
   "outputs": [
    {
     "name": "stdout",
     "output_type": "stream",
     "text": [
      "(25000,)\n"
     ]
    }
   ],
   "source": [
    "print(data_replica['data_no_punctuation'].shape)"
   ]
  },
  {
   "cell_type": "code",
   "execution_count": 15,
   "metadata": {},
   "outputs": [
    {
     "name": "stdout",
     "output_type": "stream",
     "text": [
      "(25000, 4862393)\n"
     ]
    }
   ],
   "source": [
    "# TFIDF vectorization by converting all text to lower case and using n-grams\n",
    "tfidf_vectorizer = TfidfVectorizer(lowercase=True, ngram_range=(1, 3))\n",
    "training_data_vectorized = tfidf_vectorizer.fit_transform(abc)\n",
    "print(training_data_vectorized.shape)"
   ]
  },
  {
   "cell_type": "code",
   "execution_count": 16,
   "metadata": {},
   "outputs": [
    {
     "name": "stdout",
     "output_type": "stream",
     "text": [
      "['positive' 'positive' 'positive' ... 'positive' 'positive' 'negative']\n"
     ]
    }
   ],
   "source": [
    "y_label = data.drop(['review'], axis=1)\n",
    "y_label = np.array(y_label)\n",
    "y_label = y_label.reshape(-1)\n",
    "y_label = sklearn.utils.validation.column_or_1d(y_label, warn=True)\n",
    "print(y_label)"
   ]
  },
  {
   "cell_type": "code",
   "execution_count": 22,
   "metadata": {},
   "outputs": [],
   "source": [
    "x_train = training_data_vectorized[:10000]\n",
    "x_test =  training_data_vectorized[10000:11000]\n",
    "y_train = y_label[:10000]\n",
    "y_test = y_label[10000:11000]"
   ]
  },
  {
   "cell_type": "code",
   "execution_count": 19,
   "metadata": {},
   "outputs": [
    {
     "data": {
      "text/plain": [
       "SVC(C=1.0, cache_size=200, class_weight=None, coef0=0.0,\n",
       "    decision_function_shape='ovr', degree=3, gamma='auto', kernel='rbf',\n",
       "    max_iter=-1, probability=False, random_state=None, shrinking=True,\n",
       "    tol=0.001, verbose=False)"
      ]
     },
     "execution_count": 19,
     "metadata": {},
     "output_type": "execute_result"
    }
   ],
   "source": [
    "sup_vect_clas = SVC(gamma='auto')\n",
    "sup_vect_clas.fit(x_train, y_train)"
   ]
  },
  {
   "cell_type": "code",
   "execution_count": 23,
   "metadata": {},
   "outputs": [
    {
     "name": "stdout",
     "output_type": "stream",
     "text": [
      "accuracy of the model is 0.466\n"
     ]
    }
   ],
   "source": [
    "print('accuracy of the model is {}'.format(sup_vect_clas.score(x_test,y_test)))"
   ]
  },
  {
   "cell_type": "code",
   "execution_count": 25,
   "metadata": {},
   "outputs": [
    {
     "name": "stdout",
     "output_type": "stream",
     "text": [
      "['negative' 'positive' 'negative' 'positive' 'negative' 'negative'\n",
      " 'negative' 'negative' 'negative' 'positive']\n",
      "  (0, 21818)\t0.040320064126252955\n",
      "  (0, 21853)\t0.06190443262268353\n",
      "  (0, 21855)\t0.06440741828823751\n",
      "  (0, 22282)\t0.03944916869752276\n",
      "  (0, 22370)\t0.06440741828823751\n",
      "  (0, 22371)\t0.06440741828823751\n",
      "  (0, 38072)\t0.04163551458810298\n",
      "  (0, 38073)\t0.06440741828823751\n",
      "  (0, 38074)\t0.06440741828823751\n",
      "  (0, 91648)\t0.018438738399887074\n",
      "  (0, 94897)\t0.06440741828823751\n",
      "  (0, 94898)\t0.06440741828823751\n",
      "  (0, 105343)\t0.050509918877787455\n",
      "  (0, 105354)\t0.06440741828823751\n",
      "  (0, 105355)\t0.06440741828823751\n",
      "  (0, 127649)\t0.0265051605721952\n",
      "  (0, 128447)\t0.06440741828823751\n",
      "  (0, 128448)\t0.06440741828823751\n",
      "  (0, 240017)\t0.020777358363745623\n",
      "  (0, 240504)\t0.04111770393606265\n",
      "  (0, 240516)\t0.06440741828823751\n",
      "  (0, 243299)\t0.020348126225146906\n",
      "  (0, 244705)\t0.06440741828823751\n",
      "  (0, 244706)\t0.06440741828823751\n",
      "  (0, 465263)\t0.019976770225545636\n",
      "  :\t:\n",
      "  (9, 4732576)\t0.027282872058876518\n",
      "  (9, 4733811)\t0.01512560122792556\n",
      "  (9, 4734105)\t0.027282872058876518\n",
      "  (9, 4734106)\t0.027282872058876518\n",
      "  (9, 4745547)\t0.008274287432196712\n",
      "  (9, 4750692)\t0.024410084423873223\n",
      "  (9, 4750693)\t0.027282872058876518\n",
      "  (9, 4774915)\t0.02113420447732117\n",
      "  (9, 4774926)\t0.027282872058876518\n",
      "  (9, 4774927)\t0.027282872058876518\n",
      "  (9, 4789539)\t0.011174762933250374\n",
      "  (9, 4792258)\t0.023349823983485684\n",
      "  (9, 4792260)\t0.026222611618488986\n",
      "  (9, 4798149)\t0.015958333530771997\n",
      "  (9, 4798252)\t0.027282872058876518\n",
      "  (9, 4808624)\t0.010610440273065621\n",
      "  (9, 4809581)\t0.027282872058876518\n",
      "  (9, 4809582)\t0.027282872058876518\n",
      "  (9, 4823634)\t0.021198545388336244\n",
      "  (9, 4825671)\t0.02307431424295081\n",
      "  (9, 4825679)\t0.026222611618488986\n",
      "  (9, 4826627)\t0.027282872058876518\n",
      "  (9, 4826628)\t0.027282872058876518\n",
      "  (9, 4828342)\t0.027282872058876518\n",
      "  (9, 4828343)\t0.027282872058876518\n"
     ]
    },
    {
     "data": {
      "text/plain": [
       "array(['positive', 'positive', 'positive', 'positive', 'positive',\n",
       "       'positive', 'positive', 'positive', 'positive', 'positive'],\n",
       "      dtype=object)"
      ]
     },
     "execution_count": 25,
     "metadata": {},
     "output_type": "execute_result"
    }
   ],
   "source": [
    "yy_test = y_test[0:10]\n",
    "print(yy_test)\n",
    "xx_test = x_test[0:10]\n",
    "print(xx_test)\n",
    "sup_vect_clas.predict(xx_test)"
   ]
  },
  {
   "cell_type": "code",
   "execution_count": null,
   "metadata": {},
   "outputs": [],
   "source": []
  }
 ],
 "metadata": {
  "kernelspec": {
   "display_name": "Python 3",
   "language": "python",
   "name": "python3"
  },
  "language_info": {
   "codemirror_mode": {
    "name": "ipython",
    "version": 3
   },
   "file_extension": ".py",
   "mimetype": "text/x-python",
   "name": "python",
   "nbconvert_exporter": "python",
   "pygments_lexer": "ipython3",
   "version": "3.7.3"
  }
 },
 "nbformat": 4,
 "nbformat_minor": 2
}
